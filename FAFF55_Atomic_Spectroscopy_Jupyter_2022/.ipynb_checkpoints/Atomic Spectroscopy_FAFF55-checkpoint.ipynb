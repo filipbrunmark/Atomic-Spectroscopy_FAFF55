{
 "cells": [
  {
   "cell_type": "markdown",
   "id": "9ca1d285",
   "metadata": {},
   "source": [
    "# <span style=\"color:orange\">Atomic Spectroscopy</span>\n",
    "Project-based laboratory exercise in the course Atomic Physics (FAFF55)\n",
    "### Names: Filip \n",
    "## Table of Content\n",
    " [Introduction](#Introduction)\n",
    "* [1.The spectrum of Hydrogen](#Hydrogen)\n",
    "  * [1.1 Open the spectrum](#Hydrogen_Step_1)\n",
    "  * [1.2 Gaussian fit](#Hydrogen_Step_2)\n",
    "  * [1.3 Calculate Rydberg constant](#Hydrogen_Step_3)\n",
    "  * [1.4 Discussion](#Hydrogen_Step_4)\n",
    "* [2.The quantum defect](#quantum_defect)\n",
    "  * [2.1 Open the Na spectrum](#quantum_1)  \n",
    "  * [2.2 Open a saturated spectrum](#quantum_2) \n",
    "  * [2.3 Calculate experimental values for the quantum defect](#quantum_3) \n",
    "  * [2.4 Calculate the vacuum wavelength for the 3p – 8d transition](#quantum_4)  \n",
    "  * [2.4 Discussion](#quantum_5)  \n",
    "* [3.Fine structure](#fine_structure)  \n",
    "  * [3.1 Open file and identify peaks](#fine_structure_1)  \n",
    "  * [3.2 Conduct the analysis](#fine_structure_2)    \n",
    "  * [3.2 Discussion](#fine_structure_3)\n",
    "--------------------------------------------------------------------------------------------------------------\n",
    "\n",
    "## Introduction <a name=\"Introduction\"></a>\n",
    "This Jupyter Notebook is meant to conduct the anaylsis as well as to present the results of the atomic spectroscopy lab. Generally all code provided is a guideline in order to get your analysis started. In case you want to use your own methods, feel free to change as much of the code as  you like. Each of the three tasks starts with the analysis of the data, followed by some calculations and ends with a discussion. The first task provides a lot of the code needed, whereas in the last part most of the coding is up to you. \n",
    "<br>\n",
    "\n",
    "**Before you can run any part, you need to import the modules below (shift + enter):**\n",
    "\n"
   ]
  },
  {
   "cell_type": "code",
   "execution_count": 2,
   "id": "4f40177c",
   "metadata": {},
   "outputs": [],
   "source": [
    "# Packages to access files in the system\n",
    "import sys, os\n",
    "\n",
    "# Package that supports mathmatical operations on arrays\n",
    "import numpy as np  \n",
    "\n",
    "# Package that supports operations for data structures and numeric tables\n",
    "import pandas as pd\n",
    "\n",
    "# Package for plotting; \n",
    "# first line makes plots interactive, \n",
    "# second actually loads the library\n",
    "%matplotlib notebook\n",
    "import matplotlib.pyplot as plt\n",
    "\n",
    "# Function that fits a curve to data \n",
    "from scipy.optimize import curve_fit\n",
    "\n",
    "sys.path.append('./lib')\n",
    "import fittingFunctions"
   ]
  },
  {
   "cell_type": "markdown",
   "id": "e2bb3376",
   "metadata": {},
   "source": [
    "--------------------------------------------------------------------------------------------------------------"
   ]
  },
  {
   "cell_type": "markdown",
   "id": "51d23daf",
   "metadata": {},
   "source": [
    "# <span style=\"color:orange\">1. The spectrum of Hydrogen</span> <a name=\"Hydrogen\"></a>\n",
    "## 1.1 The spectrum of Hydrogen<a name=\"Hydrogen_Step_1\"></a>\n",
    "Record a spectrum of the hydrogen lamp using the spectrometer channel with large range. Make sure the measurement is strong, but not saturated. Save the data as ASCII file and transfer them to the computer on which you have your Jupyter Notebook. With the function  `read ` from package  `pandas ` one loads in the experimental data. To do this, you have to specify the data path and file name accordinlgy in the field below. Please mind that the **absolute path** must be specified using `/` instead of `\\`."
   ]
  },
  {
   "cell_type": "code",
   "execution_count": null,
   "id": "8445a77a",
   "metadata": {
    "scrolled": false
   },
   "outputs": [],
   "source": [
    "# Specify the absolute path for the hydrogen spectrum inside quotation marks:\n",
    "df = pd.read_csv(\"C:/ExampleFolder/ExampleFolder/Hydrogen.txt\", \n",
    "    sep=\";\",    # Here we specify that values are seperated by semicolons.\n",
    "    header=6,   # This skips the first rows of the file containing information about the acquisiton settings\n",
    "                 \n",
    "    # Check if your spectrum txt file contains of 4 or 5 coulumns. If you have 5 coulumns use the adapted 'names'-array the line below.        \n",
    "    names=[\"Wavelength\", \"Count sample\", \"Background\", \"Reference\"])\n",
    "    # names=[\"Wavelength\", \"Count sample\", \"Background\", \"Reference\", \"Corrected for dark\"])\n",
    "\n",
    "df = df.stack().str.replace(',','.').unstack() # Turns the  ',' in the data frame to a point\n",
    "data = df.to_numpy() #Converts the data frame into an Numpy array\n",
    "wavelength = np.array(list(data[:, 0]), dtype=float) # Turns the Numpy 2d array with the wavelengths in a regular 2D float array\n",
    "counts = np.array(list(data[:, 1]), dtype=float) # If you have saved 5 coulumns, use the 'Corrected for dark values' by changing the '1' to a '4'.\n",
    "\n",
    "plt.figure()\n",
    "plt.plot(wavelength, counts)\n",
    "plt.show()\n",
    "plt.title(\"Hydrogen\")      # set title of the plot\n",
    "plt.xlabel(\"Wavelength\")   # set label for x-axis \n",
    "plt.ylabel(\"Counts\")       # set label for Y-axis "
   ]
  },
  {
   "cell_type": "markdown",
   "id": "9ed8f84a",
   "metadata": {},
   "source": [
    "## 1.2 Gaussian fit<a name=\"Hydrogen_Step_2\"></a>\n",
    "Perform a Gaussian fit on the peaks in order to exactly determine the position of the peaks. You have to specify the region in which the Gaussian fit shall be performed. Adapt the other parameters (mu_guess, A_guess and sigma_guess) to successfuly run the fit. "
   ]
  },
  {
   "cell_type": "code",
   "execution_count": null,
   "id": "9f9a6380",
   "metadata": {},
   "outputs": [],
   "source": [
    "peak1 = fittingFunctions.perform_Gaussian_fit(x=wavelength, \n",
    "                                              y=counts,      \n",
    "                                              region_start=450,   # bins where to start fitting\n",
    "                                              region_stop=500,    # bins where to stop fitting\n",
    "                                              mu_guess=480,       # guess for the position of peak centroid\n",
    "                                              A_guess=60000,       # guess for the amplitude of the peak\n",
    "                                              sigma_guess=1)      # guess for the sigma"
   ]
  },
  {
   "cell_type": "markdown",
   "id": "02c4cade",
   "metadata": {},
   "source": [
    "  * Extract the peak position `mu`. Repeat the fit for as many peaks that you are able to find. Insert the wavelength in the table below. Adapt the table length if you find more than five lines in the spectrum.  <br> \n",
    "  *  Identify the lines of the Balmer series using the NIST data base and assign them the correspoding transition. <br> \n",
    "  * Convert your values to vacuum wavelength. "
   ]
  },
  {
   "cell_type": "code",
   "execution_count": 13,
   "id": "6f7967ea",
   "metadata": {},
   "outputs": [
    {
     "data": {
      "text/html": [
       "<div>\n",
       "<style scoped>\n",
       "    .dataframe tbody tr th:only-of-type {\n",
       "        vertical-align: middle;\n",
       "    }\n",
       "\n",
       "    .dataframe tbody tr th {\n",
       "        vertical-align: top;\n",
       "    }\n",
       "\n",
       "    .dataframe thead th {\n",
       "        text-align: right;\n",
       "    }\n",
       "</style>\n",
       "<table border=\"1\" class=\"dataframe\">\n",
       "  <thead>\n",
       "    <tr style=\"text-align: right;\">\n",
       "      <th></th>\n",
       "      <th>1</th>\n",
       "      <th>2</th>\n",
       "      <th>3</th>\n",
       "      <th>4</th>\n",
       "      <th>5</th>\n",
       "    </tr>\n",
       "  </thead>\n",
       "  <tbody>\n",
       "    <tr>\n",
       "      <th>Transition</th>\n",
       "      <td>Empdty</td>\n",
       "      <td>Empty</td>\n",
       "      <td>Empty</td>\n",
       "      <td>Empty</td>\n",
       "      <td>Empty</td>\n",
       "    </tr>\n",
       "    <tr>\n",
       "      <th>Vacuum wavelength</th>\n",
       "      <td>None</td>\n",
       "      <td>None</td>\n",
       "      <td>None</td>\n",
       "      <td>None</td>\n",
       "      <td>None</td>\n",
       "    </tr>\n",
       "  </tbody>\n",
       "</table>\n",
       "</div>"
      ],
      "text/plain": [
       "                        1      2      3      4      5\n",
       "Transition         Empdty  Empty  Empty  Empty  Empty\n",
       "Vacuum wavelength    None   None   None   None   None"
      ]
     },
     "execution_count": 13,
     "metadata": {},
     "output_type": "execute_result"
    }
   ],
   "source": [
    "# Insert the extracted wavelength here.\n",
    "hydrogen_wavelength = ([None , None, None , None, None])\n",
    "# Compare the number with the nist database and identify the transition.\n",
    "hydrogen_transistions=([\"Empty\", \"Empty\", \"Empty\", \"Empty\", \"Empty\"])\n",
    "\n",
    "# Write a formula converting the values from the table above to vacuum wavelength.\n",
    "hydrogen_vac_wavelength = ([None , None, None , None, None])\n",
    "\n",
    "# Nothing to change below here:\n",
    "pd.DataFrame([hydrogen_transistions, hydrogen_vac_wavelength], columns=['1', '2', '3','4', '5'], index=['Transition', 'Vacuum wavelength'])"
   ]
  },
  {
   "cell_type": "markdown",
   "id": "be8acb8d",
   "metadata": {},
   "source": [
    "## 1.3 Calculate Rydberg constant<a name=\"Hydrogen_Step_3\"></a>\n",
    "\n",
    "\n",
    "Use your extracted data to determine an experimental value for the [Rydberg constant](https://en.wikipedia.org/wiki/Rydberg_constant) of hydrogen using the formula from the course book:\n",
    "<br>\n",
    "$  h \\nu = \\frac{h c}{\\lambda}= R_{H}\\left(\\frac{1}{n_{1}^{2}}-\\frac{1}{n_{2}^{2}}\\right)$,\n",
    "<br>\n",
    "where  $n_{1}$ and $n_{2}$ are two consecutive quantum numbers. Use the empty code box below to write your own code to extract the Rydberg constant."
   ]
  },
  {
   "cell_type": "code",
   "execution_count": null,
   "id": "25600d9a",
   "metadata": {},
   "outputs": [],
   "source": [
    "## Write your code here to determine the Rydberg constant"
   ]
  },
  {
   "cell_type": "markdown",
   "id": "784a6b18",
   "metadata": {},
   "source": [
    "## 1.4 Discussion <a name=\"Hydrogen_Step_4\"></a>\n",
    "Describe below the procedure (spectrometer settings) used for the experimental determination of result and any difficulties with the measurement, or how to overcome them. Compare the experimental value for the Rydberg constant with literature in a brief text. Perform an error estimation and discuss whether your result is reasonable."
   ]
  },
  {
   "cell_type": "markdown",
   "id": "178cf23e",
   "metadata": {},
   "source": [
    "Double-click to discuss your results here."
   ]
  },
  {
   "cell_type": "markdown",
   "id": "0cf02f87",
   "metadata": {},
   "source": [
    "--------------------------------------------------------------------------------------------------------------\n",
    "# <span style=\"color:orange\">2. The quantum defect</span> <a name=\"quantum_defect\"></a>\n",
    "Plug in the sodium lamp in the lamp holder and measure a spectrum using the spectrometer channel with large range. \n",
    "Since sodium has a very intense feature, you need to record two spectra with different integration time. The unsaturated spectrum gives the wavelength of the intense line. The saturated spectrum (with the strong line being cut-off) will reveal the less intense features. Focus on the region between 430 and 630 nm when adjusting the intensity, ignoring the strong feature.\n",
    "\n",
    "## 2.1 Open the full, unsaturated sodium spectrum <a name=\"quantum_1\"></a>\n",
    "Load in the spectrum that is not saturated (the strong feature not being cut off)."
   ]
  },
  {
   "cell_type": "code",
   "execution_count": null,
   "id": "a325a249",
   "metadata": {
    "scrolled": false
   },
   "outputs": [],
   "source": [
    "# Specify the absolute path for the unsaturated sodium spectrum inside quotation marks:\n",
    "df = pd.read_csv(\"C:/ExampleFolder/ExampleFolder/Sodium_unsaturated.txt\", \n",
    "    sep=\";\",    # Here we specify that values are seperated by semicolons.\n",
    "    header=6,   # This skips the first rows of the file containing information about the acquisiton settings   \n",
    "\n",
    "    # Check if your spectrum txt file contains of 4 or 5 coulumns. If you have 4 coulumns use the adapted 'names'-array the line below.        \n",
    "    # names=[\"Wavelength\", \"Count sample\", \"Background\", \"Reference\"])\n",
    "    names=[\"Wavelength\", \"Count sample\", \"Background\", \"Reference\", \"Corrected for dark\"])\n",
    "\n",
    "df = df.stack().str.replace(',','.').unstack() # Turns the  ',' in the data frame to a point\n",
    "data = df.to_numpy() #Converts the data frame into an Numpy array\n",
    "wavelength = np.array(list(data[:, 0]), dtype=float) #Turns the Numpy 2d array in a regular 2D float array\n",
    "counts = np.array(list(data[:, 1]), dtype=float) # If you have saved 5 coulumns, use the 'Corrected for dark values' by changing the '1' to a '4'.\n",
    "plt.figure()\n",
    "plt.plot(wavelength, counts)\n",
    "plt.show()\n",
    "plt.title(\"Sodium unsaturated\")      # set title of the plot\n",
    "plt.xlabel(\"Wavelength\")   # set label for x-axis \n",
    "plt.xlim(430, 630)         # set range for x-axis\n",
    "plt.ylabel(\"Counts\")       # set label for Y-axis "
   ]
  },
  {
   "cell_type": "markdown",
   "id": "eb0f270d",
   "metadata": {},
   "source": [
    "Analogue to the previous part, perform a Gaussian fit on the peaks in order to exactly determine the peak position."
   ]
  },
  {
   "cell_type": "code",
   "execution_count": null,
   "id": "70023d32",
   "metadata": {},
   "outputs": [],
   "source": [
    "peak1 = fittingFunctions.perform_Gaussian_fit(x=wavelength, \n",
    "                                              y=counts,      \n",
    "                                              region_start=580,   # bins where to start fitting\n",
    "                                              region_stop=600,    # bins where to stop fitting\n",
    "                                              mu_guess=585,       # guess for the position of peak centroid\n",
    "                                              A_guess=60000,       # guess for the amplitude of the peak\n",
    "                                              sigma_guess=1)      # guess for the sigma"
   ]
  },
  {
   "cell_type": "markdown",
   "id": "db77cd61",
   "metadata": {},
   "source": [
    "Extract the wavelength of all transitions for which n = 3 is the lower energy level. Enter your result in the table provided further down under section [2.3](#quantum_3). "
   ]
  },
  {
   "cell_type": "markdown",
   "id": "c5605060",
   "metadata": {},
   "source": [
    "## 2.2 Open a saturated spectrum <a name=\"quantum_2\"></a>\n",
    "Load in the saturated spectrum at which you adjusted the intensity in the range between 430 nm and 630 nm, saturating the strong feature that had been determined before by the unsaturated measurement. Perform Gaussian fits in order to exactly determine the peak positions."
   ]
  },
  {
   "cell_type": "code",
   "execution_count": null,
   "id": "cea1a802",
   "metadata": {},
   "outputs": [],
   "source": [
    "# Specify the absolute path for the saturated sodium spectrum inside quotation marks:\n",
    "df = pd.read_csv(\"C:/ExampleFolder/ExampleFolder/Sodium_saturated.txt\", \n",
    "    sep=\";\",    # Here we specify that values are seperated by semicolons.\n",
    "    header=6,   # This skips the first rows of the file containing information about the acquisiton settings\n",
    "\n",
    "    # Check if your spectrum txt file contains of 4 or 5 coulumns. If you have 4 coulumns use the adapted 'names'-array the line below.        \n",
    "    # names=[\"Wavelength\", \"Count sample\", \"Background\", \"Reference\"])\n",
    "    names=[\"Wavelength\", \"Count sample\", \"Background\", \"Reference\", \"Corrected for dark\"])                 \n",
    "                 \n",
    "df = df.stack().str.replace(',','.').unstack() # Turns the  ',' in the data frame to a point\n",
    "data = df.to_numpy() #Converts the data frame into an Numpy array\n",
    "wavelength = np.array(list(data[:, 0]), dtype=float) #Turns the Numpy 2d array in a regular 2D float array\n",
    "counts = np.array(list(data[:, 1]), dtype=float) # If you have saved 5 coulumns, use the 'Corrected for dark values' by changing the '1' to a '4'.\n",
    "\n",
    "plt.figure()\n",
    "plt.plot(wavelength, counts)\n",
    "plt.show()\n",
    "plt.title(\"Sodium saturated\")      # set title of the plot\n",
    "plt.xlabel(\"Wavelength\")   # set label for x-axis \n",
    "plt.xlim(430, 630)         # set range for x-axis\n",
    "plt.ylabel(\"Counts\")       # set label for Y-axis "
   ]
  },
  {
   "cell_type": "code",
   "execution_count": null,
   "id": "cf13d2c7",
   "metadata": {},
   "outputs": [],
   "source": [
    "peak1 = fittingFunctions.perform_Gaussian_fit(x=wavelength, \n",
    "                                              y=counts,      \n",
    "                                              region_start=610,   # bins where to start fitting\n",
    "                                              region_stop=620,    # bins where to stop fitting\n",
    "                                              mu_guess=615,       # guess for the position of peak centroid\n",
    "                                              A_guess=6000,       # guess for the amplitude of the peak\n",
    "                                              sigma_guess=1)      # guess for the sigma"
   ]
  },
  {
   "cell_type": "markdown",
   "id": "819edaf2",
   "metadata": {},
   "source": [
    "Identify all the small peaks, which are otherwise hidden in the noise. Again try to find as many transitions for which n = 3 is the lower energy level and enter the values in the table below, section [2.3](#quantum_3)."
   ]
  },
  {
   "cell_type": "markdown",
   "id": "88e401d3",
   "metadata": {},
   "source": [
    "## 2.3 Calculate experimental values for the quantum defect <a name=\"quantum_3\"></a>\n",
    "Intentify the transistion, with n=3 is the lower energy level, using the [NIST data base](https://physics.nist.gov/PhysRefData/ASD/lines_form.html)."
   ]
  },
  {
   "cell_type": "code",
   "execution_count": 14,
   "id": "c931d94e",
   "metadata": {},
   "outputs": [
    {
     "data": {
      "text/html": [
       "<div>\n",
       "<style scoped>\n",
       "    .dataframe tbody tr th:only-of-type {\n",
       "        vertical-align: middle;\n",
       "    }\n",
       "\n",
       "    .dataframe tbody tr th {\n",
       "        vertical-align: top;\n",
       "    }\n",
       "\n",
       "    .dataframe thead th {\n",
       "        text-align: right;\n",
       "    }\n",
       "</style>\n",
       "<table border=\"1\" class=\"dataframe\">\n",
       "  <thead>\n",
       "    <tr style=\"text-align: right;\">\n",
       "      <th></th>\n",
       "      <th>1</th>\n",
       "      <th>2</th>\n",
       "      <th>3</th>\n",
       "      <th>4</th>\n",
       "      <th>5</th>\n",
       "    </tr>\n",
       "  </thead>\n",
       "  <tbody>\n",
       "    <tr>\n",
       "      <th>Vacuum wavelength / nm</th>\n",
       "      <td>None</td>\n",
       "      <td>None</td>\n",
       "      <td>None</td>\n",
       "      <td>None</td>\n",
       "      <td>None</td>\n",
       "    </tr>\n",
       "    <tr>\n",
       "      <th>Upper level</th>\n",
       "      <td>Empty</td>\n",
       "      <td>Empty</td>\n",
       "      <td>Empty</td>\n",
       "      <td>Empty</td>\n",
       "      <td>Empty</td>\n",
       "    </tr>\n",
       "    <tr>\n",
       "      <th>Lower level</th>\n",
       "      <td>Empty</td>\n",
       "      <td>Empty</td>\n",
       "      <td>Empty</td>\n",
       "      <td>Empty</td>\n",
       "      <td>Empty</td>\n",
       "    </tr>\n",
       "  </tbody>\n",
       "</table>\n",
       "</div>"
      ],
      "text/plain": [
       "                            1      2      3      4      5\n",
       "Vacuum wavelength / nm   None   None   None   None   None\n",
       "Upper level             Empty  Empty  Empty  Empty  Empty\n",
       "Lower level             Empty  Empty  Empty  Empty  Empty"
      ]
     },
     "execution_count": 14,
     "metadata": {},
     "output_type": "execute_result"
    }
   ],
   "source": [
    "### Enter your results in the arrays below:\n",
    "sodium_wavelength = ([None , None, None , None, None])\n",
    "sodium_upperlevel=([\"Empty\", \"Empty\", \"Empty\", \"Empty\", \"Empty\"])\n",
    "sodium_lowerlevel=([\"Empty\", \"Empty\", \"Empty\", \"Empty\", \"Empty\"])\n",
    "\n",
    "# -> TODO <- write a formula converting the values from the table above to vacuum wavelength.\n",
    "sodium_vac_wavelength = ([None , None, None , None, None])\n",
    "\n",
    "pd.DataFrame([sodium_vac_wavelength, sodium_upperlevel, sodium_lowerlevel], columns=['1', '2', '3','4', '5'], index=['Vacuum wavelength / nm','Upper level','Lower level'])"
   ]
  },
  {
   "cell_type": "markdown",
   "id": "23184c15",
   "metadata": {},
   "source": [
    "*  Use the field below to develop your own code to calculate the experimental values for the quantum defect $\\delta{(l)}$. of all involved energy levels. For this, use the tabulated value for the first ionization energy of sodium.  Take the values over into the result table below. \n",
    "* Find literature values for the constants and write them in the table.\n",
    "\n",
    "More information can be found in your textbook."
   ]
  },
  {
   "cell_type": "code",
   "execution_count": null,
   "id": "0cbca216",
   "metadata": {},
   "outputs": [],
   "source": [
    "### Write your code here"
   ]
  },
  {
   "cell_type": "code",
   "execution_count": null,
   "id": "8c9da31e",
   "metadata": {},
   "outputs": [],
   "source": [
    "### Enter your results in the result table below:\n",
    "Quantum_defect_exp = ([None , None, None , None, None])\n",
    "Quantum_defect_lit = ([None , None, None , None, None])\n",
    "\n",
    "pd.DataFrame([sodium_wavelength, sodium_upperlevel, sodium_lowerlevel, Quantum_defect_exp, Quantum_defect_lit], columns=['1', '2', '3','4', '5'], index=['Wavelength / nm','Upper level','Lower level','Calculated quantum defect','Literature quantum defect'])"
   ]
  },
  {
   "cell_type": "markdown",
   "id": "c3d9b97d",
   "metadata": {},
   "source": [
    "## 2.4 Calculate the vacuum wavelength for the 3p – 8d transition <a name=\"quantum_4\"></a>\n",
    "Estimate the vacuum wavelength for the transition 3p – 8d in sodium as accurately as possible.\n",
    "Enter the formula that you use here (you can write LaTex code):"
   ]
  },
  {
   "cell_type": "markdown",
   "id": "563ea221",
   "metadata": {},
   "source": [
    "$Replace\\;this\\;with\\;your\\;equation.$"
   ]
  },
  {
   "cell_type": "markdown",
   "id": "1fa7e1b5",
   "metadata": {},
   "source": [
    "Use the empty code box below to write your own code to calculate the vacuum wavelength:"
   ]
  },
  {
   "cell_type": "code",
   "execution_count": null,
   "id": "6158059a",
   "metadata": {},
   "outputs": [],
   "source": [
    "### Write your code here."
   ]
  },
  {
   "cell_type": "markdown",
   "id": "d25f5ec2",
   "metadata": {},
   "source": [
    "## 2.5 Discussion <a name=\"quantum_5\"></a>\n",
    "Describe your procedure (particularly the spectrometer settings) and discuss your results for the quantum defects and the 3p-8d vacuum wavelength in the field below. Compare your result with literature values and do an error estimation. Comment, in particular, on the internal order of the energy levels corresponding to different orbitals, and on the underlying physics. \n",
    "Include a drawing of the energy level diagram of sodium containing the lines that have been observed (Edit > Insert image)."
   ]
  },
  {
   "cell_type": "markdown",
   "id": "c3a3e256",
   "metadata": {},
   "source": [
    "Double-click to discuss your results here."
   ]
  },
  {
   "cell_type": "markdown",
   "id": "90b9a9d0",
   "metadata": {},
   "source": [
    "--------------------------------------------------------------------------------------------------------------\n",
    "# <span style=\"color:orange\">3. Fine structure</span> <a name=\"fine_structure\"></a>\n",
    "## 3.1 Open file and identify peaks <a name=\"fine_structure_1\"></a>\n",
    "Plug in the cadmium lamp in the lamp holder and measure a spectrum using the spectrometer **channel** with **small range**, but **high resolution**. Focus on the region **between 340 and 362 nm** when adjusting the **intensity**. In this last part you are supposed to conduct more of the analysis on your own. Try to modify the code in order to extract peak height and position."
   ]
  },
  {
   "cell_type": "code",
   "execution_count": null,
   "id": "615779c9",
   "metadata": {},
   "outputs": [],
   "source": [
    "# Specify the absolute path for the cadmium spectrum inside quotation marks:\n",
    "df = pd.read_csv(\"C:/ExampleFolder/ExampleFolder/cadmium.txt\", \n",
    "    sep=\";\",    # Here we specify that values are seperated by semicolons.\n",
    "    header=6,   # This skips the first rows of the file containing information about the acquisiton settings\n",
    "                 \n",
    "    # Check if your spectrum txt file contains of 4 or 5 coulumns. If you have 4 coulumns use the adapted 'names'-array the line below.        \n",
    "    # names=[\"Wavelength\", \"Count sample\", \"Background\", \"Reference\"])\n",
    "    names=[\"Wavelength\", \"Count sample\", \"Background\", \"Reference\", \"Corrected for dark\"])  \n",
    "\n",
    "df = df.stack().str.replace(',','.').unstack() # Turns the  ',' in the data frame to a point\n",
    "data = df.to_numpy() #Converts the data frame into an Numpy array\n",
    "wavelength = np.array(list(data[:, 0]), dtype=float) #Turns the Numpy 2d array in a regular 2D float array\n",
    "counts = np.array(list(data[:, 4]), dtype=float) # If you have saved 5 coulumns, use the 'Corrected for dark values' by changing the '1' to a '4'.\n",
    "\n",
    "plt.figure()\n",
    "plt.plot(wavelength, counts)\n",
    "plt.show()\n",
    "plt.title(\"Cadmium\")       # set title of the plot\n",
    "plt.xlabel(\"Wavelength\")   # set label for x-axis\n",
    "plt.xlim(338, 362)         # set range for x-axis\n",
    "plt.ylabel(\"Counts\")       # set label for Y-axis "
   ]
  },
  {
   "cell_type": "code",
   "execution_count": null,
   "id": "503b4ece",
   "metadata": {},
   "outputs": [],
   "source": [
    "peak1 = fittingFunctions.perform_Gaussian_fit(x=wavelength, \n",
    "                                              y=counts,      \n",
    "                                              region_start=340,   # bins where to start fitting\n",
    "                                              region_stop=362,    # bins where to stop fitting\n",
    "                                              mu_guess=346,       # guess for the position of peak centroid\n",
    "                                              A_guess=45000,       # guess for the amplitude of the peak\n",
    "                                              sigma_guess=1)      # guess for the sigma"
   ]
  },
  {
   "cell_type": "markdown",
   "id": "de7572d9",
   "metadata": {},
   "source": [
    "* Determine the vacuum wavelengths of as many lines as possible in the wavelength range 340-362 nm of your collected spectra.\n",
    "* Identify the cadmium transitions corresponding to the different spectral lines and make sure that you find a multiplet with in total six transitions.\n",
    "* Determine the relative energies of the fine structure levels of the two involved triplets.\n",
    "\n",
    "Create a table for all the identified spectral lines including the vacuum wavelengths and the energy levels involved in the transitions"
   ]
  },
  {
   "cell_type": "code",
   "execution_count": null,
   "id": "d57c196e",
   "metadata": {},
   "outputs": [],
   "source": [
    "### Write your results here.\n",
    "Cadmium_wavelength = ([None , None, None , None, None])\n",
    "\n",
    "next_row = ([None , None, None , None, None])\n",
    "Cadmium_vac_wavelength = ([None , None, None , None, None])\n",
    "pd.DataFrame([Cadmium_wavelength, next_row], columns=['1', '2', '3','4', '5'], index=['Wavelength / nm','label'])"
   ]
  },
  {
   "cell_type": "markdown",
   "id": "8aeb10b4",
   "metadata": {},
   "source": [
    "## 3.2 Conduct the analysis <a name=\"fine_structure_2\"></a>\n",
    "Check whether the fine structure of the studied terms in agreement with the Landé interval rule. If not, what is a possible reason for this? Use the empty code box below to write your own code. "
   ]
  },
  {
   "cell_type": "code",
   "execution_count": null,
   "id": "8ac7f924",
   "metadata": {},
   "outputs": [],
   "source": [
    "#### your code starts here"
   ]
  },
  {
   "cell_type": "markdown",
   "id": "bfab2b8f",
   "metadata": {},
   "source": [
    "## 3.3 Discussion<a name=\"fine_structure_3\"></a>\n",
    "Describe your procedure and discuss your results in field below. Compare your result with literature values and do an error estimation. Furthermore, answer the following points:\n",
    "\n",
    "* Include a drawing of the energy level diagram of cadmium containing the observed transitions (Edit > Insert image).\n",
    "* There is a hardly visible line around 350 nm. To what energy levels does this transition correspond to? Why is it so weak, and why can we see it at all?"
   ]
  },
  {
   "cell_type": "markdown",
   "id": "3a6f39d9",
   "metadata": {},
   "source": [
    "Double-click to discuss your results here."
   ]
  }
 ],
 "metadata": {
  "celltoolbar": "Raw Cell Format",
  "kernelspec": {
   "display_name": "Python 3 (ipykernel)",
   "language": "python",
   "name": "python3"
  },
  "language_info": {
   "codemirror_mode": {
    "name": "ipython",
    "version": 3
   },
   "file_extension": ".py",
   "mimetype": "text/x-python",
   "name": "python",
   "nbconvert_exporter": "python",
   "pygments_lexer": "ipython3",
   "version": "3.9.12"
  }
 },
 "nbformat": 4,
 "nbformat_minor": 5
}
